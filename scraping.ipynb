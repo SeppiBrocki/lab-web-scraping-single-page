{
 "cells": [
  {
   "cell_type": "code",
   "execution_count": null,
   "metadata": {},
   "outputs": [],
   "source": [
    "from bs4 import BeautifulSoup\n",
    "import requests\n",
    "import pandas as pd\n",
    "import re\n",
    "from collections import defaultdict\n",
    "url = 'https://www.billboard.com/charts/hot-100/'\n",
    "response = requests.get(url)\n",
    "soup = BeautifulSoup(response.content, 'html.parser')\n",
    "%pip install spotipy\n",
    "CLIENT_ID = \"4109b2d9f5014671863bb2df1d1fbdd3\"\n",
    "CLIENT_SECRET = \"5cb719fae80c4191a9c0b288f51bfe50\"\n",
    "import spotipy\n",
    "from spotipy.oauth2 import SpotifyClientCredentials\n",
    "sp = spotipy.Spotify(auth_manager=SpotifyClientCredentials(client_id=CLIENT_ID,\n",
    "                                                           client_secret=CLIENT_SECRET))"
   ]
  },
  {
   "cell_type": "code",
   "execution_count": null,
   "metadata": {},
   "outputs": [],
   "source": [
    "def get_artist_name(artist_id):\n",
    "    artist_name = sp.artist(artist_id)\n",
    "    return artist_name['name']"
   ]
  },
  {
   "cell_type": "code",
   "execution_count": null,
   "metadata": {},
   "outputs": [],
   "source": [
    "def get_songs(soup):\n",
    "    songs = soup.find_all(\"h3\", attrs={'class': 'c-title'})\n",
    "    i = 0\n",
    "    x = 0\n",
    "    songs_list_100 = []\n",
    "    for song in songs:\n",
    "        i += 1\n",
    "        if i > 6 and i - x * 4 == 7 and i < 407:\n",
    "            x += 1\n",
    "            song = song.get_text().strip()\n",
    "            songs_list_100.append(song)\n",
    "    #print(songs_list_100)\n",
    "    return songs_list_100"
   ]
  },
  {
   "cell_type": "code",
   "execution_count": null,
   "metadata": {},
   "outputs": [],
   "source": [
    "def get_bands(soup):                                                        # Wood have worked better with ReGex?\n",
    "    bands = soup.find_all(\"span\", attrs={'class': 'c-label'})\n",
    "    #print(bands)\n",
    "    filtered_bands = []\n",
    "    for band in bands:\n",
    "        if band.get_text().strip() != \"NEW\" and band.get_text().strip() != \"RE-\\nENTRY\":\n",
    "            filtered_bands.append(band)\n",
    "    #print(filtered_bands)\n",
    "    #print(len(filtered_bands))\n",
    "    j = 0\n",
    "    y = 0\n",
    "    band_list_100 = []\n",
    "    for band in filtered_bands:\n",
    "        j += 1\n",
    "        if j > 1 and j - y * 8 == 2 and j < 795:\n",
    "            y += 1\n",
    "            band = band.get_text().strip()\n",
    "            band_list_100.append(band)\n",
    "    #print(band_list_100)\n",
    "    return band_list_100"
   ]
  },
  {
   "cell_type": "code",
   "execution_count": null,
   "metadata": {},
   "outputs": [],
   "source": [
    "def merge_bands_songs(band_list_100, songs_list_100):\n",
    "    top_acts = defaultdict(list)\n",
    "    for k, v in zip(band_list_100, songs_list_100):\n",
    "        top_acts[k].append(v)\n",
    "    return top_acts"
   ]
  },
  {
   "cell_type": "code",
   "execution_count": null,
   "metadata": {},
   "outputs": [],
   "source": [
    "def look_up_100(top_acts, artist_name):\n",
    "    for k,v in top_acts.items():\n",
    "        if artist_name == k:\n",
    "            print(f'The artist of your song has these songs in the Billboard 100: {v}\\n')"
   ]
  },
  {
   "cell_type": "code",
   "execution_count": null,
   "metadata": {},
   "outputs": [],
   "source": [
    "def get_track_id(your_song):\n",
    "    results = sp.search(q=your_song, limit=1)\n",
    "    track_id = results['tracks']['items'][0]['id']\n",
    "    return track_id"
   ]
  },
  {
   "cell_type": "code",
   "execution_count": null,
   "metadata": {},
   "outputs": [],
   "source": [
    "def get_artist_id(track_id):\n",
    "    results2 = sp.track(track_id, market=None)\n",
    "    artist_id = results2['album']['artists'][0]['id']\n",
    "    return artist_id"
   ]
  },
  {
   "cell_type": "code",
   "execution_count": null,
   "metadata": {},
   "outputs": [],
   "source": [
    "def get_top_songs_artist(artist_id):\n",
    "    results3 = sp.artist_top_tracks(artist_id)\n",
    "    track_list = []\n",
    "    for track in results3['tracks']:\n",
    "        track_list.append(track['name'])\n",
    "    print(f'\\nYou might also like these songs from the same artist:{track_list}\\n\\n')"
   ]
  },
  {
   "cell_type": "code",
   "execution_count": null,
   "metadata": {},
   "outputs": [],
   "source": [
    "def recommendations():\n",
    "    \n",
    "    \n",
    "    your_song = input(\"Please enter your favorite song\")\n",
    "    \n",
    "    \n",
    "    # Get top songs of the artist from spotify:\n",
    "    \n",
    "    track_id = get_track_id(your_song)\n",
    "    \n",
    "    artist_id = get_artist_id(track_id)\n",
    "    \n",
    "    get_top_songs_artist(artist_id)\n",
    "    \n",
    "    \n",
    "    # Get songs from the artist from Billboard 100:\n",
    "    \n",
    "    songs_list_100 = get_songs(soup)\n",
    "\n",
    "    \n",
    "    band_list_100 = get_bands(soup)\n",
    "\n",
    "   \n",
    "    \n",
    "    top_acts = merge_bands_songs(band_list_100, songs_list_100)\n",
    "\n",
    "  \n",
    "\n",
    "    artist_name = get_artist_name(artist_id) # artist_id already received earliyer\n",
    "\n",
    "   \n",
    "    \n",
    "    look_up_100(top_acts, artist_name)\n",
    "    "
   ]
  },
  {
   "cell_type": "code",
   "execution_count": null,
   "metadata": {},
   "outputs": [],
   "source": [
    "recommendations()"
   ]
  }
 ],
 "metadata": {
  "kernelspec": {
   "display_name": "base",
   "language": "python",
   "name": "python3"
  },
  "language_info": {
   "codemirror_mode": {
    "name": "ipython",
    "version": 3
   },
   "file_extension": ".py",
   "mimetype": "text/x-python",
   "name": "python",
   "nbconvert_exporter": "python",
   "pygments_lexer": "ipython3",
   "version": "3.11.5"
  },
  "orig_nbformat": 4
 },
 "nbformat": 4,
 "nbformat_minor": 2
}
